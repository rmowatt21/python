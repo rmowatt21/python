{
  "nbformat": 4,
  "nbformat_minor": 0,
  "metadata": {
    "colab": {
      "name": "Capstone lll Pharmaceutical Spending.ipynb",
      "provenance": [],
      "collapsed_sections": [],
      "mount_file_id": "1Bu-YCdoE7eiOo0OWZ3MB7v4AjIlvCqko",
      "authorship_tag": "ABX9TyM3S+nAFlZlKSN8N61T5OKz",
      "include_colab_link": true
    },
    "kernelspec": {
      "name": "python3",
      "display_name": "Python 3"
    },
    "language_info": {
      "name": "python"
    }
  },
  "cells": [
    {
      "cell_type": "markdown",
      "metadata": {
        "id": "view-in-github",
        "colab_type": "text"
      },
      "source": [
        "<a href=\"https://colab.research.google.com/github/rmowatt21/python/blob/main/Capstone_lll_Pharmaceutical_Spending.ipynb\" target=\"_parent\"><img src=\"https://colab.research.google.com/assets/colab-badge.svg\" alt=\"Open In Colab\"/></a>"
      ]
    },
    {
      "cell_type": "markdown",
      "source": [
        "DATA"
      ],
      "metadata": {
        "id": "rfmJRGh6jdUJ"
      }
    },
    {
      "cell_type": "code",
      "metadata": {
        "id": "Y62N-d7G2o_v"
      },
      "source": [
        "# import & alias modules\n",
        "import math \n",
        "import pandas as pd\n",
        "from scipy import stats\n",
        "import seaborn  as sns \n",
        "import matplotlib.pyplot as plt\n",
        "sns.set()"
      ],
      "execution_count": null,
      "outputs": []
    },
    {
      "cell_type": "markdown",
      "source": [
        "Pharmaceutical Spending by countries - https://data.oecd.org/healthres/pharmaceutical-spending.htm \n",
        "\n",
        "\"Pharmaceutical spending covers expenditure on prescription medicines and self-medication, often referred to as over-the-counter products. In some countries, other medical non-durable goods are also included. Pharmaceuticals consumed in hospitals and other health care settings are excluded. Final expenditure on pharmaceuticals includes wholesale and retail margins and value-added tax. Total pharmaceutical spending refers in most countries to “net” spending, i.e. adjusted for possible rebates payable by manufacturers, wholesalers or pharmacies. This indicator is measured as a share of total health spending, in USD per capita (using economy-wide PPPs) and as a share of GDP.\""
      ],
      "metadata": {
        "id": "LV4mmm2RddJq"
      }
    },
    {
      "cell_type": "code",
      "source": [
        "df = pd.read_csv(\"/content/drive/MyDrive/Pharmaceutical.csv\")\n",
        "df.info()"
      ],
      "metadata": {
        "colab": {
          "base_uri": "https://localhost:8080/"
        },
        "id": "bXuE8yaEUWas",
        "outputId": "ee3634af-df7d-433c-a082-4c071fa5945c"
      },
      "execution_count": null,
      "outputs": [
        {
          "output_type": "stream",
          "name": "stdout",
          "text": [
            "<class 'pandas.core.frame.DataFrame'>\n",
            "RangeIndex: 1036 entries, 0 to 1035\n",
            "Data columns (total 7 columns):\n",
            " #   Column       Non-Null Count  Dtype  \n",
            "---  ------       --------------  -----  \n",
            " 0   LOCATION     1036 non-null   object \n",
            " 1   TIME         1036 non-null   int64  \n",
            " 2   PC_HEALTHXP  1036 non-null   float64\n",
            " 3   PC_GDP       1036 non-null   float64\n",
            " 4   USD_CAP      1036 non-null   float64\n",
            " 5   FLAG_CODES   63 non-null     object \n",
            " 6   TOTAL_SPEND  1036 non-null   float64\n",
            "dtypes: float64(4), int64(1), object(2)\n",
            "memory usage: 56.8+ KB\n"
          ]
        }
      ]
    },
    {
      "cell_type": "code",
      "source": [
        "df.tail()"
      ],
      "metadata": {
        "colab": {
          "base_uri": "https://localhost:8080/",
          "height": 206
        },
        "id": "bvn1BwXoeQt4",
        "outputId": "233cc5ec-38e7-40a8-ec70-d00d8b5910ab"
      },
      "execution_count": null,
      "outputs": [
        {
          "output_type": "execute_result",
          "data": {
            "text/plain": [
              "     LOCATION  TIME  PC_HEALTHXP  PC_GDP  USD_CAP FLAG_CODES  TOTAL_SPEND\n",
              "1031      LTU  2012       28.942   1.820  448.728        NaN      1340.70\n",
              "1032      LTU  2013       28.173   1.728  461.178        NaN      1364.02\n",
              "1033      LTU  2014       27.836   1.724  485.245        NaN      1422.92\n",
              "1034      LTU  2015       26.784   1.745  504.422        NaN      1465.30\n",
              "1035      RUS  2015       22.939   1.286  309.900        NaN     44655.62"
            ],
            "text/html": [
              "\n",
              "  <div id=\"df-ef9eb5f4-129c-4ee5-a26b-b0b7b78580c4\">\n",
              "    <div class=\"colab-df-container\">\n",
              "      <div>\n",
              "<style scoped>\n",
              "    .dataframe tbody tr th:only-of-type {\n",
              "        vertical-align: middle;\n",
              "    }\n",
              "\n",
              "    .dataframe tbody tr th {\n",
              "        vertical-align: top;\n",
              "    }\n",
              "\n",
              "    .dataframe thead th {\n",
              "        text-align: right;\n",
              "    }\n",
              "</style>\n",
              "<table border=\"1\" class=\"dataframe\">\n",
              "  <thead>\n",
              "    <tr style=\"text-align: right;\">\n",
              "      <th></th>\n",
              "      <th>LOCATION</th>\n",
              "      <th>TIME</th>\n",
              "      <th>PC_HEALTHXP</th>\n",
              "      <th>PC_GDP</th>\n",
              "      <th>USD_CAP</th>\n",
              "      <th>FLAG_CODES</th>\n",
              "      <th>TOTAL_SPEND</th>\n",
              "    </tr>\n",
              "  </thead>\n",
              "  <tbody>\n",
              "    <tr>\n",
              "      <th>1031</th>\n",
              "      <td>LTU</td>\n",
              "      <td>2012</td>\n",
              "      <td>28.942</td>\n",
              "      <td>1.820</td>\n",
              "      <td>448.728</td>\n",
              "      <td>NaN</td>\n",
              "      <td>1340.70</td>\n",
              "    </tr>\n",
              "    <tr>\n",
              "      <th>1032</th>\n",
              "      <td>LTU</td>\n",
              "      <td>2013</td>\n",
              "      <td>28.173</td>\n",
              "      <td>1.728</td>\n",
              "      <td>461.178</td>\n",
              "      <td>NaN</td>\n",
              "      <td>1364.02</td>\n",
              "    </tr>\n",
              "    <tr>\n",
              "      <th>1033</th>\n",
              "      <td>LTU</td>\n",
              "      <td>2014</td>\n",
              "      <td>27.836</td>\n",
              "      <td>1.724</td>\n",
              "      <td>485.245</td>\n",
              "      <td>NaN</td>\n",
              "      <td>1422.92</td>\n",
              "    </tr>\n",
              "    <tr>\n",
              "      <th>1034</th>\n",
              "      <td>LTU</td>\n",
              "      <td>2015</td>\n",
              "      <td>26.784</td>\n",
              "      <td>1.745</td>\n",
              "      <td>504.422</td>\n",
              "      <td>NaN</td>\n",
              "      <td>1465.30</td>\n",
              "    </tr>\n",
              "    <tr>\n",
              "      <th>1035</th>\n",
              "      <td>RUS</td>\n",
              "      <td>2015</td>\n",
              "      <td>22.939</td>\n",
              "      <td>1.286</td>\n",
              "      <td>309.900</td>\n",
              "      <td>NaN</td>\n",
              "      <td>44655.62</td>\n",
              "    </tr>\n",
              "  </tbody>\n",
              "</table>\n",
              "</div>\n",
              "      <button class=\"colab-df-convert\" onclick=\"convertToInteractive('df-ef9eb5f4-129c-4ee5-a26b-b0b7b78580c4')\"\n",
              "              title=\"Convert this dataframe to an interactive table.\"\n",
              "              style=\"display:none;\">\n",
              "        \n",
              "  <svg xmlns=\"http://www.w3.org/2000/svg\" height=\"24px\"viewBox=\"0 0 24 24\"\n",
              "       width=\"24px\">\n",
              "    <path d=\"M0 0h24v24H0V0z\" fill=\"none\"/>\n",
              "    <path d=\"M18.56 5.44l.94 2.06.94-2.06 2.06-.94-2.06-.94-.94-2.06-.94 2.06-2.06.94zm-11 1L8.5 8.5l.94-2.06 2.06-.94-2.06-.94L8.5 2.5l-.94 2.06-2.06.94zm10 10l.94 2.06.94-2.06 2.06-.94-2.06-.94-.94-2.06-.94 2.06-2.06.94z\"/><path d=\"M17.41 7.96l-1.37-1.37c-.4-.4-.92-.59-1.43-.59-.52 0-1.04.2-1.43.59L10.3 9.45l-7.72 7.72c-.78.78-.78 2.05 0 2.83L4 21.41c.39.39.9.59 1.41.59.51 0 1.02-.2 1.41-.59l7.78-7.78 2.81-2.81c.8-.78.8-2.07 0-2.86zM5.41 20L4 18.59l7.72-7.72 1.47 1.35L5.41 20z\"/>\n",
              "  </svg>\n",
              "      </button>\n",
              "      \n",
              "  <style>\n",
              "    .colab-df-container {\n",
              "      display:flex;\n",
              "      flex-wrap:wrap;\n",
              "      gap: 12px;\n",
              "    }\n",
              "\n",
              "    .colab-df-convert {\n",
              "      background-color: #E8F0FE;\n",
              "      border: none;\n",
              "      border-radius: 50%;\n",
              "      cursor: pointer;\n",
              "      display: none;\n",
              "      fill: #1967D2;\n",
              "      height: 32px;\n",
              "      padding: 0 0 0 0;\n",
              "      width: 32px;\n",
              "    }\n",
              "\n",
              "    .colab-df-convert:hover {\n",
              "      background-color: #E2EBFA;\n",
              "      box-shadow: 0px 1px 2px rgba(60, 64, 67, 0.3), 0px 1px 3px 1px rgba(60, 64, 67, 0.15);\n",
              "      fill: #174EA6;\n",
              "    }\n",
              "\n",
              "    [theme=dark] .colab-df-convert {\n",
              "      background-color: #3B4455;\n",
              "      fill: #D2E3FC;\n",
              "    }\n",
              "\n",
              "    [theme=dark] .colab-df-convert:hover {\n",
              "      background-color: #434B5C;\n",
              "      box-shadow: 0px 1px 3px 1px rgba(0, 0, 0, 0.15);\n",
              "      filter: drop-shadow(0px 1px 2px rgba(0, 0, 0, 0.3));\n",
              "      fill: #FFFFFF;\n",
              "    }\n",
              "  </style>\n",
              "\n",
              "      <script>\n",
              "        const buttonEl =\n",
              "          document.querySelector('#df-ef9eb5f4-129c-4ee5-a26b-b0b7b78580c4 button.colab-df-convert');\n",
              "        buttonEl.style.display =\n",
              "          google.colab.kernel.accessAllowed ? 'block' : 'none';\n",
              "\n",
              "        async function convertToInteractive(key) {\n",
              "          const element = document.querySelector('#df-ef9eb5f4-129c-4ee5-a26b-b0b7b78580c4');\n",
              "          const dataTable =\n",
              "            await google.colab.kernel.invokeFunction('convertToInteractive',\n",
              "                                                     [key], {});\n",
              "          if (!dataTable) return;\n",
              "\n",
              "          const docLinkHtml = 'Like what you see? Visit the ' +\n",
              "            '<a target=\"_blank\" href=https://colab.research.google.com/notebooks/data_table.ipynb>data table notebook</a>'\n",
              "            + ' to learn more about interactive tables.';\n",
              "          element.innerHTML = '';\n",
              "          dataTable['output_type'] = 'display_data';\n",
              "          await google.colab.output.renderOutput(dataTable, element);\n",
              "          const docLink = document.createElement('div');\n",
              "          docLink.innerHTML = docLinkHtml;\n",
              "          element.appendChild(docLink);\n",
              "        }\n",
              "      </script>\n",
              "    </div>\n",
              "  </div>\n",
              "  "
            ]
          },
          "metadata": {},
          "execution_count": 4
        }
      ]
    },
    {
      "cell_type": "code",
      "source": [
        "df.describe()"
      ],
      "metadata": {
        "colab": {
          "base_uri": "https://localhost:8080/",
          "height": 300
        },
        "id": "LZmu_mOd2IG4",
        "outputId": "c26ef607-6221-4da5-f65f-d704bec62f20"
      },
      "execution_count": null,
      "outputs": [
        {
          "output_type": "execute_result",
          "data": {
            "text/plain": [
              "              TIME  PC_HEALTHXP       PC_GDP      USD_CAP    TOTAL_SPEND\n",
              "count  1036.000000  1036.000000  1036.000000  1036.000000    1036.000000\n",
              "mean   1996.809846    16.406307     1.170948   295.046989   11765.423118\n",
              "std      12.498330     6.389064     0.465635   209.152134   34878.286123\n",
              "min    1970.000000     5.545000     0.207000     3.160000       6.290000\n",
              "25%    1987.000000    11.516250     0.768250   111.098500     728.180000\n",
              "50%    1999.000000    14.967500     1.141500   266.332000    2349.570000\n",
              "75%    2007.000000    20.590500     1.523250   446.109500    7778.180000\n",
              "max    2016.000000    40.239000     2.797000  1162.399000  373009.910000"
            ],
            "text/html": [
              "\n",
              "  <div id=\"df-3009a506-7cea-49fe-a479-6391c0c85df9\">\n",
              "    <div class=\"colab-df-container\">\n",
              "      <div>\n",
              "<style scoped>\n",
              "    .dataframe tbody tr th:only-of-type {\n",
              "        vertical-align: middle;\n",
              "    }\n",
              "\n",
              "    .dataframe tbody tr th {\n",
              "        vertical-align: top;\n",
              "    }\n",
              "\n",
              "    .dataframe thead th {\n",
              "        text-align: right;\n",
              "    }\n",
              "</style>\n",
              "<table border=\"1\" class=\"dataframe\">\n",
              "  <thead>\n",
              "    <tr style=\"text-align: right;\">\n",
              "      <th></th>\n",
              "      <th>TIME</th>\n",
              "      <th>PC_HEALTHXP</th>\n",
              "      <th>PC_GDP</th>\n",
              "      <th>USD_CAP</th>\n",
              "      <th>TOTAL_SPEND</th>\n",
              "    </tr>\n",
              "  </thead>\n",
              "  <tbody>\n",
              "    <tr>\n",
              "      <th>count</th>\n",
              "      <td>1036.000000</td>\n",
              "      <td>1036.000000</td>\n",
              "      <td>1036.000000</td>\n",
              "      <td>1036.000000</td>\n",
              "      <td>1036.000000</td>\n",
              "    </tr>\n",
              "    <tr>\n",
              "      <th>mean</th>\n",
              "      <td>1996.809846</td>\n",
              "      <td>16.406307</td>\n",
              "      <td>1.170948</td>\n",
              "      <td>295.046989</td>\n",
              "      <td>11765.423118</td>\n",
              "    </tr>\n",
              "    <tr>\n",
              "      <th>std</th>\n",
              "      <td>12.498330</td>\n",
              "      <td>6.389064</td>\n",
              "      <td>0.465635</td>\n",
              "      <td>209.152134</td>\n",
              "      <td>34878.286123</td>\n",
              "    </tr>\n",
              "    <tr>\n",
              "      <th>min</th>\n",
              "      <td>1970.000000</td>\n",
              "      <td>5.545000</td>\n",
              "      <td>0.207000</td>\n",
              "      <td>3.160000</td>\n",
              "      <td>6.290000</td>\n",
              "    </tr>\n",
              "    <tr>\n",
              "      <th>25%</th>\n",
              "      <td>1987.000000</td>\n",
              "      <td>11.516250</td>\n",
              "      <td>0.768250</td>\n",
              "      <td>111.098500</td>\n",
              "      <td>728.180000</td>\n",
              "    </tr>\n",
              "    <tr>\n",
              "      <th>50%</th>\n",
              "      <td>1999.000000</td>\n",
              "      <td>14.967500</td>\n",
              "      <td>1.141500</td>\n",
              "      <td>266.332000</td>\n",
              "      <td>2349.570000</td>\n",
              "    </tr>\n",
              "    <tr>\n",
              "      <th>75%</th>\n",
              "      <td>2007.000000</td>\n",
              "      <td>20.590500</td>\n",
              "      <td>1.523250</td>\n",
              "      <td>446.109500</td>\n",
              "      <td>7778.180000</td>\n",
              "    </tr>\n",
              "    <tr>\n",
              "      <th>max</th>\n",
              "      <td>2016.000000</td>\n",
              "      <td>40.239000</td>\n",
              "      <td>2.797000</td>\n",
              "      <td>1162.399000</td>\n",
              "      <td>373009.910000</td>\n",
              "    </tr>\n",
              "  </tbody>\n",
              "</table>\n",
              "</div>\n",
              "      <button class=\"colab-df-convert\" onclick=\"convertToInteractive('df-3009a506-7cea-49fe-a479-6391c0c85df9')\"\n",
              "              title=\"Convert this dataframe to an interactive table.\"\n",
              "              style=\"display:none;\">\n",
              "        \n",
              "  <svg xmlns=\"http://www.w3.org/2000/svg\" height=\"24px\"viewBox=\"0 0 24 24\"\n",
              "       width=\"24px\">\n",
              "    <path d=\"M0 0h24v24H0V0z\" fill=\"none\"/>\n",
              "    <path d=\"M18.56 5.44l.94 2.06.94-2.06 2.06-.94-2.06-.94-.94-2.06-.94 2.06-2.06.94zm-11 1L8.5 8.5l.94-2.06 2.06-.94-2.06-.94L8.5 2.5l-.94 2.06-2.06.94zm10 10l.94 2.06.94-2.06 2.06-.94-2.06-.94-.94-2.06-.94 2.06-2.06.94z\"/><path d=\"M17.41 7.96l-1.37-1.37c-.4-.4-.92-.59-1.43-.59-.52 0-1.04.2-1.43.59L10.3 9.45l-7.72 7.72c-.78.78-.78 2.05 0 2.83L4 21.41c.39.39.9.59 1.41.59.51 0 1.02-.2 1.41-.59l7.78-7.78 2.81-2.81c.8-.78.8-2.07 0-2.86zM5.41 20L4 18.59l7.72-7.72 1.47 1.35L5.41 20z\"/>\n",
              "  </svg>\n",
              "      </button>\n",
              "      \n",
              "  <style>\n",
              "    .colab-df-container {\n",
              "      display:flex;\n",
              "      flex-wrap:wrap;\n",
              "      gap: 12px;\n",
              "    }\n",
              "\n",
              "    .colab-df-convert {\n",
              "      background-color: #E8F0FE;\n",
              "      border: none;\n",
              "      border-radius: 50%;\n",
              "      cursor: pointer;\n",
              "      display: none;\n",
              "      fill: #1967D2;\n",
              "      height: 32px;\n",
              "      padding: 0 0 0 0;\n",
              "      width: 32px;\n",
              "    }\n",
              "\n",
              "    .colab-df-convert:hover {\n",
              "      background-color: #E2EBFA;\n",
              "      box-shadow: 0px 1px 2px rgba(60, 64, 67, 0.3), 0px 1px 3px 1px rgba(60, 64, 67, 0.15);\n",
              "      fill: #174EA6;\n",
              "    }\n",
              "\n",
              "    [theme=dark] .colab-df-convert {\n",
              "      background-color: #3B4455;\n",
              "      fill: #D2E3FC;\n",
              "    }\n",
              "\n",
              "    [theme=dark] .colab-df-convert:hover {\n",
              "      background-color: #434B5C;\n",
              "      box-shadow: 0px 1px 3px 1px rgba(0, 0, 0, 0.15);\n",
              "      filter: drop-shadow(0px 1px 2px rgba(0, 0, 0, 0.3));\n",
              "      fill: #FFFFFF;\n",
              "    }\n",
              "  </style>\n",
              "\n",
              "      <script>\n",
              "        const buttonEl =\n",
              "          document.querySelector('#df-3009a506-7cea-49fe-a479-6391c0c85df9 button.colab-df-convert');\n",
              "        buttonEl.style.display =\n",
              "          google.colab.kernel.accessAllowed ? 'block' : 'none';\n",
              "\n",
              "        async function convertToInteractive(key) {\n",
              "          const element = document.querySelector('#df-3009a506-7cea-49fe-a479-6391c0c85df9');\n",
              "          const dataTable =\n",
              "            await google.colab.kernel.invokeFunction('convertToInteractive',\n",
              "                                                     [key], {});\n",
              "          if (!dataTable) return;\n",
              "\n",
              "          const docLinkHtml = 'Like what you see? Visit the ' +\n",
              "            '<a target=\"_blank\" href=https://colab.research.google.com/notebooks/data_table.ipynb>data table notebook</a>'\n",
              "            + ' to learn more about interactive tables.';\n",
              "          element.innerHTML = '';\n",
              "          dataTable['output_type'] = 'display_data';\n",
              "          await google.colab.output.renderOutput(dataTable, element);\n",
              "          const docLink = document.createElement('div');\n",
              "          docLink.innerHTML = docLinkHtml;\n",
              "          element.appendChild(docLink);\n",
              "        }\n",
              "      </script>\n",
              "    </div>\n",
              "  </div>\n",
              "  "
            ]
          },
          "metadata": {},
          "execution_count": 5
        }
      ]
    },
    {
      "cell_type": "code",
      "source": [
        "df.iloc[606:621]"
      ],
      "metadata": {
        "colab": {
          "base_uri": "https://localhost:8080/",
          "height": 520
        },
        "id": "-plSgc5Gc-Ks",
        "outputId": "13f2b86c-84b2-4bac-a0dd-78cbfdf4c895"
      },
      "execution_count": null,
      "outputs": [
        {
          "output_type": "execute_result",
          "data": {
            "text/plain": [
              "    LOCATION  TIME  PC_HEALTHXP  PC_GDP  USD_CAP FLAG_CODES  TOTAL_SPEND\n",
              "606      MEX  2001       19.889   1.045  105.263        NaN     10849.15\n",
              "607      MEX  2002       21.640   1.170  120.726        NaN     12598.44\n",
              "608      MEX  2003       35.894   2.134  230.651          B     24366.08\n",
              "609      MEX  2004       35.048   2.120  242.481        NaN     25944.40\n",
              "610      MEX  2005       35.603   2.108  260.194        NaN     28223.82\n",
              "611      MEX  2006       34.725   1.984  267.984        NaN     29503.00\n",
              "612      MEX  2007       33.928   1.974  279.012        NaN     31203.68\n",
              "613      MEX  2008       33.143   1.904  280.672        NaN     31901.69\n",
              "614      MEX  2009       32.454   2.004  288.566        NaN     33330.88\n",
              "615      MEX  2010       31.497   1.896  287.049        NaN     33676.28\n",
              "616      MEX  2011       28.201   1.623  265.790        NaN     31652.94\n",
              "617      MEX  2012       28.765   1.704  289.344        NaN     34960.95\n",
              "618      MEX  2013       27.350   1.645  283.955        NaN     34794.70\n",
              "619      MEX  2014       27.011   1.537  277.229        NaN     34437.83\n",
              "620      MEX  2015       27.201   1.595  286.825        NaN     36108.67"
            ],
            "text/html": [
              "\n",
              "  <div id=\"df-85f5f76b-6d5e-4038-93d8-41ae1b8b6ae8\">\n",
              "    <div class=\"colab-df-container\">\n",
              "      <div>\n",
              "<style scoped>\n",
              "    .dataframe tbody tr th:only-of-type {\n",
              "        vertical-align: middle;\n",
              "    }\n",
              "\n",
              "    .dataframe tbody tr th {\n",
              "        vertical-align: top;\n",
              "    }\n",
              "\n",
              "    .dataframe thead th {\n",
              "        text-align: right;\n",
              "    }\n",
              "</style>\n",
              "<table border=\"1\" class=\"dataframe\">\n",
              "  <thead>\n",
              "    <tr style=\"text-align: right;\">\n",
              "      <th></th>\n",
              "      <th>LOCATION</th>\n",
              "      <th>TIME</th>\n",
              "      <th>PC_HEALTHXP</th>\n",
              "      <th>PC_GDP</th>\n",
              "      <th>USD_CAP</th>\n",
              "      <th>FLAG_CODES</th>\n",
              "      <th>TOTAL_SPEND</th>\n",
              "    </tr>\n",
              "  </thead>\n",
              "  <tbody>\n",
              "    <tr>\n",
              "      <th>606</th>\n",
              "      <td>MEX</td>\n",
              "      <td>2001</td>\n",
              "      <td>19.889</td>\n",
              "      <td>1.045</td>\n",
              "      <td>105.263</td>\n",
              "      <td>NaN</td>\n",
              "      <td>10849.15</td>\n",
              "    </tr>\n",
              "    <tr>\n",
              "      <th>607</th>\n",
              "      <td>MEX</td>\n",
              "      <td>2002</td>\n",
              "      <td>21.640</td>\n",
              "      <td>1.170</td>\n",
              "      <td>120.726</td>\n",
              "      <td>NaN</td>\n",
              "      <td>12598.44</td>\n",
              "    </tr>\n",
              "    <tr>\n",
              "      <th>608</th>\n",
              "      <td>MEX</td>\n",
              "      <td>2003</td>\n",
              "      <td>35.894</td>\n",
              "      <td>2.134</td>\n",
              "      <td>230.651</td>\n",
              "      <td>B</td>\n",
              "      <td>24366.08</td>\n",
              "    </tr>\n",
              "    <tr>\n",
              "      <th>609</th>\n",
              "      <td>MEX</td>\n",
              "      <td>2004</td>\n",
              "      <td>35.048</td>\n",
              "      <td>2.120</td>\n",
              "      <td>242.481</td>\n",
              "      <td>NaN</td>\n",
              "      <td>25944.40</td>\n",
              "    </tr>\n",
              "    <tr>\n",
              "      <th>610</th>\n",
              "      <td>MEX</td>\n",
              "      <td>2005</td>\n",
              "      <td>35.603</td>\n",
              "      <td>2.108</td>\n",
              "      <td>260.194</td>\n",
              "      <td>NaN</td>\n",
              "      <td>28223.82</td>\n",
              "    </tr>\n",
              "    <tr>\n",
              "      <th>611</th>\n",
              "      <td>MEX</td>\n",
              "      <td>2006</td>\n",
              "      <td>34.725</td>\n",
              "      <td>1.984</td>\n",
              "      <td>267.984</td>\n",
              "      <td>NaN</td>\n",
              "      <td>29503.00</td>\n",
              "    </tr>\n",
              "    <tr>\n",
              "      <th>612</th>\n",
              "      <td>MEX</td>\n",
              "      <td>2007</td>\n",
              "      <td>33.928</td>\n",
              "      <td>1.974</td>\n",
              "      <td>279.012</td>\n",
              "      <td>NaN</td>\n",
              "      <td>31203.68</td>\n",
              "    </tr>\n",
              "    <tr>\n",
              "      <th>613</th>\n",
              "      <td>MEX</td>\n",
              "      <td>2008</td>\n",
              "      <td>33.143</td>\n",
              "      <td>1.904</td>\n",
              "      <td>280.672</td>\n",
              "      <td>NaN</td>\n",
              "      <td>31901.69</td>\n",
              "    </tr>\n",
              "    <tr>\n",
              "      <th>614</th>\n",
              "      <td>MEX</td>\n",
              "      <td>2009</td>\n",
              "      <td>32.454</td>\n",
              "      <td>2.004</td>\n",
              "      <td>288.566</td>\n",
              "      <td>NaN</td>\n",
              "      <td>33330.88</td>\n",
              "    </tr>\n",
              "    <tr>\n",
              "      <th>615</th>\n",
              "      <td>MEX</td>\n",
              "      <td>2010</td>\n",
              "      <td>31.497</td>\n",
              "      <td>1.896</td>\n",
              "      <td>287.049</td>\n",
              "      <td>NaN</td>\n",
              "      <td>33676.28</td>\n",
              "    </tr>\n",
              "    <tr>\n",
              "      <th>616</th>\n",
              "      <td>MEX</td>\n",
              "      <td>2011</td>\n",
              "      <td>28.201</td>\n",
              "      <td>1.623</td>\n",
              "      <td>265.790</td>\n",
              "      <td>NaN</td>\n",
              "      <td>31652.94</td>\n",
              "    </tr>\n",
              "    <tr>\n",
              "      <th>617</th>\n",
              "      <td>MEX</td>\n",
              "      <td>2012</td>\n",
              "      <td>28.765</td>\n",
              "      <td>1.704</td>\n",
              "      <td>289.344</td>\n",
              "      <td>NaN</td>\n",
              "      <td>34960.95</td>\n",
              "    </tr>\n",
              "    <tr>\n",
              "      <th>618</th>\n",
              "      <td>MEX</td>\n",
              "      <td>2013</td>\n",
              "      <td>27.350</td>\n",
              "      <td>1.645</td>\n",
              "      <td>283.955</td>\n",
              "      <td>NaN</td>\n",
              "      <td>34794.70</td>\n",
              "    </tr>\n",
              "    <tr>\n",
              "      <th>619</th>\n",
              "      <td>MEX</td>\n",
              "      <td>2014</td>\n",
              "      <td>27.011</td>\n",
              "      <td>1.537</td>\n",
              "      <td>277.229</td>\n",
              "      <td>NaN</td>\n",
              "      <td>34437.83</td>\n",
              "    </tr>\n",
              "    <tr>\n",
              "      <th>620</th>\n",
              "      <td>MEX</td>\n",
              "      <td>2015</td>\n",
              "      <td>27.201</td>\n",
              "      <td>1.595</td>\n",
              "      <td>286.825</td>\n",
              "      <td>NaN</td>\n",
              "      <td>36108.67</td>\n",
              "    </tr>\n",
              "  </tbody>\n",
              "</table>\n",
              "</div>\n",
              "      <button class=\"colab-df-convert\" onclick=\"convertToInteractive('df-85f5f76b-6d5e-4038-93d8-41ae1b8b6ae8')\"\n",
              "              title=\"Convert this dataframe to an interactive table.\"\n",
              "              style=\"display:none;\">\n",
              "        \n",
              "  <svg xmlns=\"http://www.w3.org/2000/svg\" height=\"24px\"viewBox=\"0 0 24 24\"\n",
              "       width=\"24px\">\n",
              "    <path d=\"M0 0h24v24H0V0z\" fill=\"none\"/>\n",
              "    <path d=\"M18.56 5.44l.94 2.06.94-2.06 2.06-.94-2.06-.94-.94-2.06-.94 2.06-2.06.94zm-11 1L8.5 8.5l.94-2.06 2.06-.94-2.06-.94L8.5 2.5l-.94 2.06-2.06.94zm10 10l.94 2.06.94-2.06 2.06-.94-2.06-.94-.94-2.06-.94 2.06-2.06.94z\"/><path d=\"M17.41 7.96l-1.37-1.37c-.4-.4-.92-.59-1.43-.59-.52 0-1.04.2-1.43.59L10.3 9.45l-7.72 7.72c-.78.78-.78 2.05 0 2.83L4 21.41c.39.39.9.59 1.41.59.51 0 1.02-.2 1.41-.59l7.78-7.78 2.81-2.81c.8-.78.8-2.07 0-2.86zM5.41 20L4 18.59l7.72-7.72 1.47 1.35L5.41 20z\"/>\n",
              "  </svg>\n",
              "      </button>\n",
              "      \n",
              "  <style>\n",
              "    .colab-df-container {\n",
              "      display:flex;\n",
              "      flex-wrap:wrap;\n",
              "      gap: 12px;\n",
              "    }\n",
              "\n",
              "    .colab-df-convert {\n",
              "      background-color: #E8F0FE;\n",
              "      border: none;\n",
              "      border-radius: 50%;\n",
              "      cursor: pointer;\n",
              "      display: none;\n",
              "      fill: #1967D2;\n",
              "      height: 32px;\n",
              "      padding: 0 0 0 0;\n",
              "      width: 32px;\n",
              "    }\n",
              "\n",
              "    .colab-df-convert:hover {\n",
              "      background-color: #E2EBFA;\n",
              "      box-shadow: 0px 1px 2px rgba(60, 64, 67, 0.3), 0px 1px 3px 1px rgba(60, 64, 67, 0.15);\n",
              "      fill: #174EA6;\n",
              "    }\n",
              "\n",
              "    [theme=dark] .colab-df-convert {\n",
              "      background-color: #3B4455;\n",
              "      fill: #D2E3FC;\n",
              "    }\n",
              "\n",
              "    [theme=dark] .colab-df-convert:hover {\n",
              "      background-color: #434B5C;\n",
              "      box-shadow: 0px 1px 3px 1px rgba(0, 0, 0, 0.15);\n",
              "      filter: drop-shadow(0px 1px 2px rgba(0, 0, 0, 0.3));\n",
              "      fill: #FFFFFF;\n",
              "    }\n",
              "  </style>\n",
              "\n",
              "      <script>\n",
              "        const buttonEl =\n",
              "          document.querySelector('#df-85f5f76b-6d5e-4038-93d8-41ae1b8b6ae8 button.colab-df-convert');\n",
              "        buttonEl.style.display =\n",
              "          google.colab.kernel.accessAllowed ? 'block' : 'none';\n",
              "\n",
              "        async function convertToInteractive(key) {\n",
              "          const element = document.querySelector('#df-85f5f76b-6d5e-4038-93d8-41ae1b8b6ae8');\n",
              "          const dataTable =\n",
              "            await google.colab.kernel.invokeFunction('convertToInteractive',\n",
              "                                                     [key], {});\n",
              "          if (!dataTable) return;\n",
              "\n",
              "          const docLinkHtml = 'Like what you see? Visit the ' +\n",
              "            '<a target=\"_blank\" href=https://colab.research.google.com/notebooks/data_table.ipynb>data table notebook</a>'\n",
              "            + ' to learn more about interactive tables.';\n",
              "          element.innerHTML = '';\n",
              "          dataTable['output_type'] = 'display_data';\n",
              "          await google.colab.output.renderOutput(dataTable, element);\n",
              "          const docLink = document.createElement('div');\n",
              "          docLink.innerHTML = docLinkHtml;\n",
              "          element.appendChild(docLink);\n",
              "        }\n",
              "      </script>\n",
              "    </div>\n",
              "  </div>\n",
              "  "
            ]
          },
          "metadata": {},
          "execution_count": 6
        }
      ]
    },
    {
      "cell_type": "code",
      "source": [
        "df.iloc[958:972]"
      ],
      "metadata": {
        "colab": {
          "base_uri": "https://localhost:8080/",
          "height": 488
        },
        "id": "fW04op8hDhgg",
        "outputId": "cd913250-bb4c-49b4-be36-ba407efd3606"
      },
      "execution_count": null,
      "outputs": [
        {
          "output_type": "execute_result",
          "data": {
            "text/plain": [
              "    LOCATION  TIME  PC_HEALTHXP  PC_GDP   USD_CAP FLAG_CODES  TOTAL_SPEND\n",
              "958      USA  2002       12.075   1.686   643.351        NaN    185043.96\n",
              "959      USA  2003       12.327   1.782   707.226        NaN    205171.87\n",
              "960      USA  2004       12.505   1.818   762.271        NaN    223196.99\n",
              "961      USA  2005       12.471   1.814   803.701        NaN    237506.99\n",
              "962      USA  2006       12.725   1.866   866.302        NaN    258487.11\n",
              "963      USA  2007       12.641   1.884   905.301        NaN    272704.91\n",
              "964      USA  2008       12.399   1.896   917.815        NaN    279102.00\n",
              "965      USA  2009       12.331   2.015   946.894        NaN    290480.12\n",
              "966      USA  2010       11.938   1.957   946.859        NaN    292909.12\n",
              "967      USA  2011       11.855   1.939   965.580        NaN    300935.91\n",
              "968      USA  2012       11.459   1.874   964.237        NaN    302768.85\n",
              "969      USA  2013       11.384   1.858   980.864        NaN    310154.01\n",
              "970      USA  2014       11.968   1.981  1081.402        NaN    344495.16\n",
              "971      USA  2015       12.227   2.068  1162.399        NaN    373009.91"
            ],
            "text/html": [
              "\n",
              "  <div id=\"df-3219e451-6602-4bd6-9596-79b0b87efb64\">\n",
              "    <div class=\"colab-df-container\">\n",
              "      <div>\n",
              "<style scoped>\n",
              "    .dataframe tbody tr th:only-of-type {\n",
              "        vertical-align: middle;\n",
              "    }\n",
              "\n",
              "    .dataframe tbody tr th {\n",
              "        vertical-align: top;\n",
              "    }\n",
              "\n",
              "    .dataframe thead th {\n",
              "        text-align: right;\n",
              "    }\n",
              "</style>\n",
              "<table border=\"1\" class=\"dataframe\">\n",
              "  <thead>\n",
              "    <tr style=\"text-align: right;\">\n",
              "      <th></th>\n",
              "      <th>LOCATION</th>\n",
              "      <th>TIME</th>\n",
              "      <th>PC_HEALTHXP</th>\n",
              "      <th>PC_GDP</th>\n",
              "      <th>USD_CAP</th>\n",
              "      <th>FLAG_CODES</th>\n",
              "      <th>TOTAL_SPEND</th>\n",
              "    </tr>\n",
              "  </thead>\n",
              "  <tbody>\n",
              "    <tr>\n",
              "      <th>958</th>\n",
              "      <td>USA</td>\n",
              "      <td>2002</td>\n",
              "      <td>12.075</td>\n",
              "      <td>1.686</td>\n",
              "      <td>643.351</td>\n",
              "      <td>NaN</td>\n",
              "      <td>185043.96</td>\n",
              "    </tr>\n",
              "    <tr>\n",
              "      <th>959</th>\n",
              "      <td>USA</td>\n",
              "      <td>2003</td>\n",
              "      <td>12.327</td>\n",
              "      <td>1.782</td>\n",
              "      <td>707.226</td>\n",
              "      <td>NaN</td>\n",
              "      <td>205171.87</td>\n",
              "    </tr>\n",
              "    <tr>\n",
              "      <th>960</th>\n",
              "      <td>USA</td>\n",
              "      <td>2004</td>\n",
              "      <td>12.505</td>\n",
              "      <td>1.818</td>\n",
              "      <td>762.271</td>\n",
              "      <td>NaN</td>\n",
              "      <td>223196.99</td>\n",
              "    </tr>\n",
              "    <tr>\n",
              "      <th>961</th>\n",
              "      <td>USA</td>\n",
              "      <td>2005</td>\n",
              "      <td>12.471</td>\n",
              "      <td>1.814</td>\n",
              "      <td>803.701</td>\n",
              "      <td>NaN</td>\n",
              "      <td>237506.99</td>\n",
              "    </tr>\n",
              "    <tr>\n",
              "      <th>962</th>\n",
              "      <td>USA</td>\n",
              "      <td>2006</td>\n",
              "      <td>12.725</td>\n",
              "      <td>1.866</td>\n",
              "      <td>866.302</td>\n",
              "      <td>NaN</td>\n",
              "      <td>258487.11</td>\n",
              "    </tr>\n",
              "    <tr>\n",
              "      <th>963</th>\n",
              "      <td>USA</td>\n",
              "      <td>2007</td>\n",
              "      <td>12.641</td>\n",
              "      <td>1.884</td>\n",
              "      <td>905.301</td>\n",
              "      <td>NaN</td>\n",
              "      <td>272704.91</td>\n",
              "    </tr>\n",
              "    <tr>\n",
              "      <th>964</th>\n",
              "      <td>USA</td>\n",
              "      <td>2008</td>\n",
              "      <td>12.399</td>\n",
              "      <td>1.896</td>\n",
              "      <td>917.815</td>\n",
              "      <td>NaN</td>\n",
              "      <td>279102.00</td>\n",
              "    </tr>\n",
              "    <tr>\n",
              "      <th>965</th>\n",
              "      <td>USA</td>\n",
              "      <td>2009</td>\n",
              "      <td>12.331</td>\n",
              "      <td>2.015</td>\n",
              "      <td>946.894</td>\n",
              "      <td>NaN</td>\n",
              "      <td>290480.12</td>\n",
              "    </tr>\n",
              "    <tr>\n",
              "      <th>966</th>\n",
              "      <td>USA</td>\n",
              "      <td>2010</td>\n",
              "      <td>11.938</td>\n",
              "      <td>1.957</td>\n",
              "      <td>946.859</td>\n",
              "      <td>NaN</td>\n",
              "      <td>292909.12</td>\n",
              "    </tr>\n",
              "    <tr>\n",
              "      <th>967</th>\n",
              "      <td>USA</td>\n",
              "      <td>2011</td>\n",
              "      <td>11.855</td>\n",
              "      <td>1.939</td>\n",
              "      <td>965.580</td>\n",
              "      <td>NaN</td>\n",
              "      <td>300935.91</td>\n",
              "    </tr>\n",
              "    <tr>\n",
              "      <th>968</th>\n",
              "      <td>USA</td>\n",
              "      <td>2012</td>\n",
              "      <td>11.459</td>\n",
              "      <td>1.874</td>\n",
              "      <td>964.237</td>\n",
              "      <td>NaN</td>\n",
              "      <td>302768.85</td>\n",
              "    </tr>\n",
              "    <tr>\n",
              "      <th>969</th>\n",
              "      <td>USA</td>\n",
              "      <td>2013</td>\n",
              "      <td>11.384</td>\n",
              "      <td>1.858</td>\n",
              "      <td>980.864</td>\n",
              "      <td>NaN</td>\n",
              "      <td>310154.01</td>\n",
              "    </tr>\n",
              "    <tr>\n",
              "      <th>970</th>\n",
              "      <td>USA</td>\n",
              "      <td>2014</td>\n",
              "      <td>11.968</td>\n",
              "      <td>1.981</td>\n",
              "      <td>1081.402</td>\n",
              "      <td>NaN</td>\n",
              "      <td>344495.16</td>\n",
              "    </tr>\n",
              "    <tr>\n",
              "      <th>971</th>\n",
              "      <td>USA</td>\n",
              "      <td>2015</td>\n",
              "      <td>12.227</td>\n",
              "      <td>2.068</td>\n",
              "      <td>1162.399</td>\n",
              "      <td>NaN</td>\n",
              "      <td>373009.91</td>\n",
              "    </tr>\n",
              "  </tbody>\n",
              "</table>\n",
              "</div>\n",
              "      <button class=\"colab-df-convert\" onclick=\"convertToInteractive('df-3219e451-6602-4bd6-9596-79b0b87efb64')\"\n",
              "              title=\"Convert this dataframe to an interactive table.\"\n",
              "              style=\"display:none;\">\n",
              "        \n",
              "  <svg xmlns=\"http://www.w3.org/2000/svg\" height=\"24px\"viewBox=\"0 0 24 24\"\n",
              "       width=\"24px\">\n",
              "    <path d=\"M0 0h24v24H0V0z\" fill=\"none\"/>\n",
              "    <path d=\"M18.56 5.44l.94 2.06.94-2.06 2.06-.94-2.06-.94-.94-2.06-.94 2.06-2.06.94zm-11 1L8.5 8.5l.94-2.06 2.06-.94-2.06-.94L8.5 2.5l-.94 2.06-2.06.94zm10 10l.94 2.06.94-2.06 2.06-.94-2.06-.94-.94-2.06-.94 2.06-2.06.94z\"/><path d=\"M17.41 7.96l-1.37-1.37c-.4-.4-.92-.59-1.43-.59-.52 0-1.04.2-1.43.59L10.3 9.45l-7.72 7.72c-.78.78-.78 2.05 0 2.83L4 21.41c.39.39.9.59 1.41.59.51 0 1.02-.2 1.41-.59l7.78-7.78 2.81-2.81c.8-.78.8-2.07 0-2.86zM5.41 20L4 18.59l7.72-7.72 1.47 1.35L5.41 20z\"/>\n",
              "  </svg>\n",
              "      </button>\n",
              "      \n",
              "  <style>\n",
              "    .colab-df-container {\n",
              "      display:flex;\n",
              "      flex-wrap:wrap;\n",
              "      gap: 12px;\n",
              "    }\n",
              "\n",
              "    .colab-df-convert {\n",
              "      background-color: #E8F0FE;\n",
              "      border: none;\n",
              "      border-radius: 50%;\n",
              "      cursor: pointer;\n",
              "      display: none;\n",
              "      fill: #1967D2;\n",
              "      height: 32px;\n",
              "      padding: 0 0 0 0;\n",
              "      width: 32px;\n",
              "    }\n",
              "\n",
              "    .colab-df-convert:hover {\n",
              "      background-color: #E2EBFA;\n",
              "      box-shadow: 0px 1px 2px rgba(60, 64, 67, 0.3), 0px 1px 3px 1px rgba(60, 64, 67, 0.15);\n",
              "      fill: #174EA6;\n",
              "    }\n",
              "\n",
              "    [theme=dark] .colab-df-convert {\n",
              "      background-color: #3B4455;\n",
              "      fill: #D2E3FC;\n",
              "    }\n",
              "\n",
              "    [theme=dark] .colab-df-convert:hover {\n",
              "      background-color: #434B5C;\n",
              "      box-shadow: 0px 1px 3px 1px rgba(0, 0, 0, 0.15);\n",
              "      filter: drop-shadow(0px 1px 2px rgba(0, 0, 0, 0.3));\n",
              "      fill: #FFFFFF;\n",
              "    }\n",
              "  </style>\n",
              "\n",
              "      <script>\n",
              "        const buttonEl =\n",
              "          document.querySelector('#df-3219e451-6602-4bd6-9596-79b0b87efb64 button.colab-df-convert');\n",
              "        buttonEl.style.display =\n",
              "          google.colab.kernel.accessAllowed ? 'block' : 'none';\n",
              "\n",
              "        async function convertToInteractive(key) {\n",
              "          const element = document.querySelector('#df-3219e451-6602-4bd6-9596-79b0b87efb64');\n",
              "          const dataTable =\n",
              "            await google.colab.kernel.invokeFunction('convertToInteractive',\n",
              "                                                     [key], {});\n",
              "          if (!dataTable) return;\n",
              "\n",
              "          const docLinkHtml = 'Like what you see? Visit the ' +\n",
              "            '<a target=\"_blank\" href=https://colab.research.google.com/notebooks/data_table.ipynb>data table notebook</a>'\n",
              "            + ' to learn more about interactive tables.';\n",
              "          element.innerHTML = '';\n",
              "          dataTable['output_type'] = 'display_data';\n",
              "          await google.colab.output.renderOutput(dataTable, element);\n",
              "          const docLink = document.createElement('div');\n",
              "          docLink.innerHTML = docLinkHtml;\n",
              "          element.appendChild(docLink);\n",
              "        }\n",
              "      </script>\n",
              "    </div>\n",
              "  </div>\n",
              "  "
            ]
          },
          "metadata": {},
          "execution_count": 7
        }
      ]
    },
    {
      "cell_type": "markdown",
      "source": [
        "**DATA EXPLORATION **"
      ],
      "metadata": {
        "id": "rosoPKBZkNVo"
      }
    },
    {
      "cell_type": "markdown",
      "source": [
        "The data focuses on three primary data points. Total Spending, PC_GDP(percent change in GDP), USD_CAP( US dollar per capita)."
      ],
      "metadata": {
        "id": "Hz_yELMckmip"
      }
    },
    {
      "cell_type": "code",
      "source": [
        "df.corr()"
      ],
      "metadata": {
        "colab": {
          "base_uri": "https://localhost:8080/",
          "height": 206
        },
        "id": "E4nb_q-gk8YF",
        "outputId": "a690d560-7689-4e4f-ed8a-d64ab2a6900a"
      },
      "execution_count": null,
      "outputs": [
        {
          "output_type": "execute_result",
          "data": {
            "text/plain": [
              "                 TIME  PC_HEALTHXP    PC_GDP   USD_CAP  TOTAL_SPEND\n",
              "TIME         1.000000     0.253944  0.610949  0.836909     0.234558\n",
              "PC_HEALTHXP  0.253944     1.000000  0.721541  0.140570     0.002035\n",
              "PC_GDP       0.610949     0.721541  1.000000  0.673536     0.333780\n",
              "USD_CAP      0.836909     0.140570  0.673536  1.000000     0.494501\n",
              "TOTAL_SPEND  0.234558     0.002035  0.333780  0.494501     1.000000"
            ],
            "text/html": [
              "\n",
              "  <div id=\"df-1c6f68ca-8fa3-4863-bcfb-7d5c99b60a14\">\n",
              "    <div class=\"colab-df-container\">\n",
              "      <div>\n",
              "<style scoped>\n",
              "    .dataframe tbody tr th:only-of-type {\n",
              "        vertical-align: middle;\n",
              "    }\n",
              "\n",
              "    .dataframe tbody tr th {\n",
              "        vertical-align: top;\n",
              "    }\n",
              "\n",
              "    .dataframe thead th {\n",
              "        text-align: right;\n",
              "    }\n",
              "</style>\n",
              "<table border=\"1\" class=\"dataframe\">\n",
              "  <thead>\n",
              "    <tr style=\"text-align: right;\">\n",
              "      <th></th>\n",
              "      <th>TIME</th>\n",
              "      <th>PC_HEALTHXP</th>\n",
              "      <th>PC_GDP</th>\n",
              "      <th>USD_CAP</th>\n",
              "      <th>TOTAL_SPEND</th>\n",
              "    </tr>\n",
              "  </thead>\n",
              "  <tbody>\n",
              "    <tr>\n",
              "      <th>TIME</th>\n",
              "      <td>1.000000</td>\n",
              "      <td>0.253944</td>\n",
              "      <td>0.610949</td>\n",
              "      <td>0.836909</td>\n",
              "      <td>0.234558</td>\n",
              "    </tr>\n",
              "    <tr>\n",
              "      <th>PC_HEALTHXP</th>\n",
              "      <td>0.253944</td>\n",
              "      <td>1.000000</td>\n",
              "      <td>0.721541</td>\n",
              "      <td>0.140570</td>\n",
              "      <td>0.002035</td>\n",
              "    </tr>\n",
              "    <tr>\n",
              "      <th>PC_GDP</th>\n",
              "      <td>0.610949</td>\n",
              "      <td>0.721541</td>\n",
              "      <td>1.000000</td>\n",
              "      <td>0.673536</td>\n",
              "      <td>0.333780</td>\n",
              "    </tr>\n",
              "    <tr>\n",
              "      <th>USD_CAP</th>\n",
              "      <td>0.836909</td>\n",
              "      <td>0.140570</td>\n",
              "      <td>0.673536</td>\n",
              "      <td>1.000000</td>\n",
              "      <td>0.494501</td>\n",
              "    </tr>\n",
              "    <tr>\n",
              "      <th>TOTAL_SPEND</th>\n",
              "      <td>0.234558</td>\n",
              "      <td>0.002035</td>\n",
              "      <td>0.333780</td>\n",
              "      <td>0.494501</td>\n",
              "      <td>1.000000</td>\n",
              "    </tr>\n",
              "  </tbody>\n",
              "</table>\n",
              "</div>\n",
              "      <button class=\"colab-df-convert\" onclick=\"convertToInteractive('df-1c6f68ca-8fa3-4863-bcfb-7d5c99b60a14')\"\n",
              "              title=\"Convert this dataframe to an interactive table.\"\n",
              "              style=\"display:none;\">\n",
              "        \n",
              "  <svg xmlns=\"http://www.w3.org/2000/svg\" height=\"24px\"viewBox=\"0 0 24 24\"\n",
              "       width=\"24px\">\n",
              "    <path d=\"M0 0h24v24H0V0z\" fill=\"none\"/>\n",
              "    <path d=\"M18.56 5.44l.94 2.06.94-2.06 2.06-.94-2.06-.94-.94-2.06-.94 2.06-2.06.94zm-11 1L8.5 8.5l.94-2.06 2.06-.94-2.06-.94L8.5 2.5l-.94 2.06-2.06.94zm10 10l.94 2.06.94-2.06 2.06-.94-2.06-.94-.94-2.06-.94 2.06-2.06.94z\"/><path d=\"M17.41 7.96l-1.37-1.37c-.4-.4-.92-.59-1.43-.59-.52 0-1.04.2-1.43.59L10.3 9.45l-7.72 7.72c-.78.78-.78 2.05 0 2.83L4 21.41c.39.39.9.59 1.41.59.51 0 1.02-.2 1.41-.59l7.78-7.78 2.81-2.81c.8-.78.8-2.07 0-2.86zM5.41 20L4 18.59l7.72-7.72 1.47 1.35L5.41 20z\"/>\n",
              "  </svg>\n",
              "      </button>\n",
              "      \n",
              "  <style>\n",
              "    .colab-df-container {\n",
              "      display:flex;\n",
              "      flex-wrap:wrap;\n",
              "      gap: 12px;\n",
              "    }\n",
              "\n",
              "    .colab-df-convert {\n",
              "      background-color: #E8F0FE;\n",
              "      border: none;\n",
              "      border-radius: 50%;\n",
              "      cursor: pointer;\n",
              "      display: none;\n",
              "      fill: #1967D2;\n",
              "      height: 32px;\n",
              "      padding: 0 0 0 0;\n",
              "      width: 32px;\n",
              "    }\n",
              "\n",
              "    .colab-df-convert:hover {\n",
              "      background-color: #E2EBFA;\n",
              "      box-shadow: 0px 1px 2px rgba(60, 64, 67, 0.3), 0px 1px 3px 1px rgba(60, 64, 67, 0.15);\n",
              "      fill: #174EA6;\n",
              "    }\n",
              "\n",
              "    [theme=dark] .colab-df-convert {\n",
              "      background-color: #3B4455;\n",
              "      fill: #D2E3FC;\n",
              "    }\n",
              "\n",
              "    [theme=dark] .colab-df-convert:hover {\n",
              "      background-color: #434B5C;\n",
              "      box-shadow: 0px 1px 3px 1px rgba(0, 0, 0, 0.15);\n",
              "      filter: drop-shadow(0px 1px 2px rgba(0, 0, 0, 0.3));\n",
              "      fill: #FFFFFF;\n",
              "    }\n",
              "  </style>\n",
              "\n",
              "      <script>\n",
              "        const buttonEl =\n",
              "          document.querySelector('#df-1c6f68ca-8fa3-4863-bcfb-7d5c99b60a14 button.colab-df-convert');\n",
              "        buttonEl.style.display =\n",
              "          google.colab.kernel.accessAllowed ? 'block' : 'none';\n",
              "\n",
              "        async function convertToInteractive(key) {\n",
              "          const element = document.querySelector('#df-1c6f68ca-8fa3-4863-bcfb-7d5c99b60a14');\n",
              "          const dataTable =\n",
              "            await google.colab.kernel.invokeFunction('convertToInteractive',\n",
              "                                                     [key], {});\n",
              "          if (!dataTable) return;\n",
              "\n",
              "          const docLinkHtml = 'Like what you see? Visit the ' +\n",
              "            '<a target=\"_blank\" href=https://colab.research.google.com/notebooks/data_table.ipynb>data table notebook</a>'\n",
              "            + ' to learn more about interactive tables.';\n",
              "          element.innerHTML = '';\n",
              "          dataTable['output_type'] = 'display_data';\n",
              "          await google.colab.output.renderOutput(dataTable, element);\n",
              "          const docLink = document.createElement('div');\n",
              "          docLink.innerHTML = docLinkHtml;\n",
              "          element.appendChild(docLink);\n",
              "        }\n",
              "      </script>\n",
              "    </div>\n",
              "  </div>\n",
              "  "
            ]
          },
          "metadata": {},
          "execution_count": 8
        }
      ]
    },
    {
      "cell_type": "markdown",
      "source": [
        "**Hypothesis 1**:"
      ],
      "metadata": {
        "id": "fmodYBq5GywB"
      }
    },
    {
      "cell_type": "markdown",
      "source": [
        "H₀: µ = µ₀ - There is no statistically significant difference between Total Spending of countries with a GDP per capita lower than average and countries with a GDP per capita higher than average."
      ],
      "metadata": {
        "id": "DVrMzoyFCqOP"
      }
    },
    {
      "cell_type": "markdown",
      "source": [
        "Hₐ: µ ≠ µ₀- There is a statistically significant difference between Total Spending of countries with a GDP per capita lower than average and countries with a GDP per capita higher than average."
      ],
      "metadata": {
        "id": "Z4V4_P65HTiG"
      }
    },
    {
      "cell_type": "markdown",
      "source": [
        "**Hypothesis 2:**"
      ],
      "metadata": {
        "id": "H9EZ8GeJHspU"
      }
    },
    {
      "cell_type": "markdown",
      "source": [
        "H₀: µ = µ₀ - There is no statistically significant difference between Total Spending of countries with a USA per capita lower than average and countries with a USA per capita higher than average."
      ],
      "metadata": {
        "id": "mjIDOPyAIn1J"
      }
    },
    {
      "cell_type": "markdown",
      "source": [
        "Hₐ: µ ≠ µ₀- There is a statistically significant difference between Total Spending of countries with a USA per capita lower than average and countries with a USA per capita higher than average."
      ],
      "metadata": {
        "id": "JUOuET92JwPf"
      }
    },
    {
      "cell_type": "code",
      "source": [
        "sns.histplot(df['TOTAL_SPEND'], bins = 20)"
      ],
      "metadata": {
        "colab": {
          "base_uri": "https://localhost:8080/",
          "height": 302
        },
        "id": "xx_0trikYOEh",
        "outputId": "031fd914-b10b-4d29-e4fa-ce966b659045"
      },
      "execution_count": null,
      "outputs": [
        {
          "output_type": "execute_result",
          "data": {
            "text/plain": [
              "<matplotlib.axes._subplots.AxesSubplot at 0x7faa9be84b10>"
            ]
          },
          "metadata": {},
          "execution_count": 10
        },
        {
          "output_type": "display_data",
          "data": {
            "text/plain": [
              "<Figure size 432x288 with 1 Axes>"
            ],
            "image/png": "[encoded data removed]"
          },
          "metadata": {}
        }
      ]
    },
    {
      "cell_type": "code",
      "source": [
        "sns.histplot(df['PC_GDP'], bins=30)"
      ],
      "metadata": {
        "colab": {
          "base_uri": "https://localhost:8080/",
          "height": 302
        },
        "id": "IhcxwrSnoxMm",
        "outputId": "24d185b0-1dd5-4a38-d9ac-8930df31a1a5"
      },
      "execution_count": null,
      "outputs": [
        {
          "output_type": "execute_result",
          "data": {
            "text/plain": [
              "<matplotlib.axes._subplots.AxesSubplot at 0x7fa6782338d0>"
            ]
          },
          "metadata": {},
          "execution_count": 42
        },
        {
          "output_type": "display_data",
          "data": {
            "text/plain": [
              "<Figure size 432x288 with 1 Axes>"
            ],
            "image/png": "[encoded data removed]"
          },
          "metadata": {}
        }
      ]
    },
    {
      "cell_type": "code",
      "source": [
        "sns.histplot(df['USD_CAP'], bins=30)"
      ],
      "metadata": {
        "colab": {
          "base_uri": "https://localhost:8080/",
          "height": 302
        },
        "outputId": "a0ba75e2-c02b-406f-d11d-a393e9e0bcdd",
        "id": "qQ_HSChK6DwY"
      },
      "execution_count": null,
      "outputs": [
        {
          "output_type": "execute_result",
          "data": {
            "text/plain": [
              "<matplotlib.axes._subplots.AxesSubplot at 0x7fa67880dfd0>"
            ]
          },
          "metadata": {},
          "execution_count": 40
        },
        {
          "output_type": "display_data",
          "data": {
            "text/plain": [
              "<Figure size 432x288 with 1 Axes>"
            ],
            "image/png": "[encoded data removed]"
          },
          "metadata": {}
        }
      ]
    },
    {
      "cell_type": "code",
      "source": [
        "sns.pairplot(df,vars= ['TOTAL_SPEND', 'USD_CAP','PC_GDP'])"
      ],
      "metadata": {
        "colab": {
          "base_uri": "https://localhost:8080/",
          "height": 565
        },
        "id": "cql5lM25pEGI",
        "outputId": "e0f5f75e-109f-4e80-eccc-2776b6b90a93"
      },
      "execution_count": null,
      "outputs": [
        {
          "output_type": "execute_result",
          "data": {
            "text/plain": [
              "<seaborn.axisgrid.PairGrid at 0x7faa95098850>"
            ]
          },
          "metadata": {},
          "execution_count": 13
        },
        {
          "output_type": "display_data",
          "data": {
            "text/plain": [
              "<Figure size 540x540 with 12 Axes>"
            ],
            "image/png": "[encoded data removed]"
          },
          "metadata": {}
        }
      ]
    },
    {
      "cell_type": "markdown",
      "source": [
        "Analysis - TOTAL SPEND "
      ],
      "metadata": {
        "id": "9tOV4Oi2u86E"
      }
    },
    {
      "cell_type": "code",
      "source": [
        "low_gdp = df.loc[df['PC_GDP'] > 2.0]\n",
        "high_gdp = df.loc[df['PC_GDP'] < 2.0]"
      ],
      "metadata": {
        "id": "gDOkwypMyVDD"
      },
      "execution_count": null,
      "outputs": []
    },
    {
      "cell_type": "markdown",
      "source": [
        "lower_GDP = df.loc[df.['PC_GDP'] "
      ],
      "metadata": {
        "id": "iJkjt2-vwaNh"
      }
    },
    {
      "cell_type": "code",
      "source": [
        "sns.boxplot(y='TOTAL_SPEND', data= low_gdp)"
      ],
      "metadata": {
        "colab": {
          "base_uri": "https://localhost:8080/",
          "height": 265
        },
        "id": "0W6YzOyALFGl",
        "outputId": "e5703a97-936a-4de0-b124-b6d2cfe74fd0"
      },
      "execution_count": null,
      "outputs": [
        {
          "output_type": "execute_result",
          "data": {
            "text/plain": [
              "<matplotlib.axes._subplots.AxesSubplot at 0x7faa942d5b90>"
            ]
          },
          "metadata": {},
          "execution_count": 56
        },
        {
          "output_type": "display_data",
          "data": {
            "text/plain": [
              "<Figure size 432x288 with 1 Axes>"
            ],
            "image/png": "[encoded data removed]"
          },
          "metadata": {}
        }
      ]
    },
    {
      "cell_type": "code",
      "source": [
        "sns.boxenplot(y='TOTAL_SPEND', data= high_gdp)"
      ],
      "metadata": {
        "colab": {
          "base_uri": "https://localhost:8080/",
          "height": 265
        },
        "id": "dbFjOltDGSDK",
        "outputId": "11f3697b-766a-4340-9d39-9eeaaabd2bc9"
      },
      "execution_count": null,
      "outputs": [
        {
          "output_type": "execute_result",
          "data": {
            "text/plain": [
              "<matplotlib.axes._subplots.AxesSubplot at 0x7faa9428bc90>"
            ]
          },
          "metadata": {},
          "execution_count": 57
        },
        {
          "output_type": "display_data",
          "data": {
            "text/plain": [
              "<Figure size 432x288 with 1 Axes>"
            ],
            "image/png": "[encoded data removed]"
          },
          "metadata": {}
        }
      ]
    },
    {
      "cell_type": "code",
      "source": [
        "stats.ttest_ind(low_gdp['TOTAL_SPEND'], high_gdp['TOTAL_SPEND'])"
      ],
      "metadata": {
        "colab": {
          "base_uri": "https://localhost:8080/"
        },
        "id": "ekZK8RpPHwm8",
        "outputId": "45b2eaf0-36e0-49b8-93ca-c75a96f71c6f"
      },
      "execution_count": null,
      "outputs": [
        {
          "output_type": "execute_result",
          "data": {
            "text/plain": [
              "Ttest_indResult(statistic=-4.725075477346208, pvalue=2.618176618459895e-06)"
            ]
          },
          "metadata": {},
          "execution_count": 38
        }
      ]
    },
    {
      "cell_type": "markdown",
      "source": [
        "The p-value is less than 0.05, so there is a statistically significant difference between the two samples. Therefore, we reject the null hypothesis."
      ],
      "metadata": {
        "id": "cXXnOw0lIR_R"
      }
    },
    {
      "cell_type": "markdown",
      "source": [
        "**Analysis - USD_CAP**"
      ],
      "metadata": {
        "id": "dwvYyPfqNkig"
      }
    },
    {
      "cell_type": "code",
      "source": [
        "high_USD_CAP = df.loc[df['USD_CAP'] > 2.0]\n",
        "low_USD_CAP = df.loc[df['USD_CAP'] < 2.0]"
      ],
      "metadata": {
        "id": "uRfAlwmmRzfe"
      },
      "execution_count": null,
      "outputs": []
    },
    {
      "cell_type": "code",
      "source": [
        "sns.boxplot(y='TOTAL_SPEND', data=low_USD_CAP)"
      ],
      "metadata": {
        "colab": {
          "base_uri": "https://localhost:8080/",
          "height": 265
        },
        "id": "PqYjTBJnR8iI",
        "outputId": "cb3599c1-8d93-4a5b-e243-9d9e6457fca4"
      },
      "execution_count": null,
      "outputs": [
        {
          "output_type": "execute_result",
          "data": {
            "text/plain": [
              "<matplotlib.axes._subplots.AxesSubplot at 0x7faa94478890>"
            ]
          },
          "metadata": {},
          "execution_count": 45
        },
        {
          "output_type": "display_data",
          "data": {
            "text/plain": [
              "<Figure size 432x288 with 1 Axes>"
            ],
            "image/png": "[encoded data removed]"
          },
          "metadata": {}
        }
      ]
    },
    {
      "cell_type": "code",
      "source": [
        "sns.boxplot(y='TOTAL_SPEND', data=high_USD_CAP)"
      ],
      "metadata": {
        "colab": {
          "base_uri": "https://localhost:8080/",
          "height": 265
        },
        "id": "o6OKakNqT4UA",
        "outputId": "52121384-4343-423d-fcab-3e36eaf81973"
      },
      "execution_count": null,
      "outputs": [
        {
          "output_type": "execute_result",
          "data": {
            "text/plain": [
              "<matplotlib.axes._subplots.AxesSubplot at 0x7faa94d7bd10>"
            ]
          },
          "metadata": {},
          "execution_count": 59
        },
        {
          "output_type": "display_data",
          "data": {
            "text/plain": [
              "<Figure size 432x288 with 1 Axes>"
            ],
            "image/png": "[encoded data removed]"
          },
          "metadata": {}
        }
      ]
    },
    {
      "cell_type": "code",
      "source": [
        "stats.ttest_ind(high_USD_CAP['TOTAL_SPEND'], low_USD_CAP['TOTAL_SPEND'])"
      ],
      "metadata": {
        "colab": {
          "base_uri": "https://localhost:8080/"
        },
        "outputId": "21189a1a-c3ca-4971-bf57-3da6ab83bbbd",
        "id": "jqlez-dAUMXu"
      },
      "execution_count": null,
      "outputs": [
        {
          "output_type": "execute_result",
          "data": {
            "text/plain": [
              "Ttest_indResult(statistic=nan, pvalue=nan)"
            ]
          },
          "metadata": {},
          "execution_count": 62
        }
      ]
    },
    {
      "cell_type": "markdown",
      "source": [
        "The p-value is less than 0.05, so there is a statistically significant difference between the two samples. Therefore, we reject the null hypothesis."
      ],
      "metadata": {
        "id": "nPPGODMzZ_GD"
      }
    },
    {
      "cell_type": "markdown",
      "source": [
        "Evidence shows that there is a significant different between (USD per capita & PC(percent change) in GDP and they play a signifcant factor. "
      ],
      "metadata": {
        "id": "Wa24SkPRaGW9"
      }
    },
    {
      "cell_type": "markdown",
      "source": [
        "RECOMMENDATION: based on the supporting data, there is a consistent increase in overall spending in the health care system. The GDP and USD per capita spending between countries does play a role in overall pharmaceutical spending. Furthering our buying power to keep up with the demand of Pharmaceutical and other health care needs.  "
      ],
      "metadata": {
        "id": "6xYXFfPV2tkT"
      }
    }
  ]
}